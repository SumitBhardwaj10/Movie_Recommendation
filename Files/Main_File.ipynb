{
 "cells": [
  {
   "cell_type": "code",
   "execution_count": 40,
   "id": "f02fe19c-aa35-406a-94e6-5dae33d958cc",
   "metadata": {},
   "outputs": [],
   "source": [
    "import pandas as pd\n",
    "import numpy as np\n",
    "import ast\n",
    "from nltk.stem.porter import PorterStemmer\n",
    "import re\n",
    "import joblib\n",
    "from sklearn.metrics.pairwise import cosine_similarity\n",
    "from sklearn.feature_extraction.text import TfidfVectorizer"
   ]
  },
  {
   "cell_type": "markdown",
   "id": "fd60366f-ca5b-4c75-a397-ab60b011e2cb",
   "metadata": {},
   "source": [
    "# Loading Data"
   ]
  },
  {
   "cell_type": "code",
   "execution_count": 2,
   "id": "ec3e0abe-9250-4c04-82e0-9a0032116390",
   "metadata": {},
   "outputs": [
    {
     "data": {
      "text/html": [
       "<div>\n",
       "<style scoped>\n",
       "    .dataframe tbody tr th:only-of-type {\n",
       "        vertical-align: middle;\n",
       "    }\n",
       "\n",
       "    .dataframe tbody tr th {\n",
       "        vertical-align: top;\n",
       "    }\n",
       "\n",
       "    .dataframe thead th {\n",
       "        text-align: right;\n",
       "    }\n",
       "</style>\n",
       "<table border=\"1\" class=\"dataframe\">\n",
       "  <thead>\n",
       "    <tr style=\"text-align: right;\">\n",
       "      <th></th>\n",
       "      <th>budget</th>\n",
       "      <th>genres</th>\n",
       "      <th>homepage</th>\n",
       "      <th>id</th>\n",
       "      <th>keywords</th>\n",
       "      <th>original_language</th>\n",
       "      <th>original_title</th>\n",
       "      <th>overview</th>\n",
       "      <th>popularity</th>\n",
       "      <th>production_companies</th>\n",
       "      <th>production_countries</th>\n",
       "      <th>release_date</th>\n",
       "      <th>revenue</th>\n",
       "      <th>runtime</th>\n",
       "      <th>spoken_languages</th>\n",
       "      <th>status</th>\n",
       "      <th>tagline</th>\n",
       "      <th>title</th>\n",
       "      <th>vote_average</th>\n",
       "      <th>vote_count</th>\n",
       "    </tr>\n",
       "  </thead>\n",
       "  <tbody>\n",
       "    <tr>\n",
       "      <th>0</th>\n",
       "      <td>237000000</td>\n",
       "      <td>[{\"id\": 28, \"name\": \"Action\"}, {\"id\": 12, \"nam...</td>\n",
       "      <td>http://www.avatarmovie.com/</td>\n",
       "      <td>19995</td>\n",
       "      <td>[{\"id\": 1463, \"name\": \"culture clash\"}, {\"id\":...</td>\n",
       "      <td>en</td>\n",
       "      <td>Avatar</td>\n",
       "      <td>In the 22nd century, a paraplegic Marine is di...</td>\n",
       "      <td>150.437577</td>\n",
       "      <td>[{\"name\": \"Ingenious Film Partners\", \"id\": 289...</td>\n",
       "      <td>[{\"iso_3166_1\": \"US\", \"name\": \"United States o...</td>\n",
       "      <td>2009-12-10</td>\n",
       "      <td>2787965087</td>\n",
       "      <td>162.0</td>\n",
       "      <td>[{\"iso_639_1\": \"en\", \"name\": \"English\"}, {\"iso...</td>\n",
       "      <td>Released</td>\n",
       "      <td>Enter the World of Pandora.</td>\n",
       "      <td>Avatar</td>\n",
       "      <td>7.2</td>\n",
       "      <td>11800</td>\n",
       "    </tr>\n",
       "    <tr>\n",
       "      <th>1</th>\n",
       "      <td>300000000</td>\n",
       "      <td>[{\"id\": 12, \"name\": \"Adventure\"}, {\"id\": 14, \"...</td>\n",
       "      <td>http://disney.go.com/disneypictures/pirates/</td>\n",
       "      <td>285</td>\n",
       "      <td>[{\"id\": 270, \"name\": \"ocean\"}, {\"id\": 726, \"na...</td>\n",
       "      <td>en</td>\n",
       "      <td>Pirates of the Caribbean: At World's End</td>\n",
       "      <td>Captain Barbossa, long believed to be dead, ha...</td>\n",
       "      <td>139.082615</td>\n",
       "      <td>[{\"name\": \"Walt Disney Pictures\", \"id\": 2}, {\"...</td>\n",
       "      <td>[{\"iso_3166_1\": \"US\", \"name\": \"United States o...</td>\n",
       "      <td>2007-05-19</td>\n",
       "      <td>961000000</td>\n",
       "      <td>169.0</td>\n",
       "      <td>[{\"iso_639_1\": \"en\", \"name\": \"English\"}]</td>\n",
       "      <td>Released</td>\n",
       "      <td>At the end of the world, the adventure begins.</td>\n",
       "      <td>Pirates of the Caribbean: At World's End</td>\n",
       "      <td>6.9</td>\n",
       "      <td>4500</td>\n",
       "    </tr>\n",
       "    <tr>\n",
       "      <th>2</th>\n",
       "      <td>245000000</td>\n",
       "      <td>[{\"id\": 28, \"name\": \"Action\"}, {\"id\": 12, \"nam...</td>\n",
       "      <td>http://www.sonypictures.com/movies/spectre/</td>\n",
       "      <td>206647</td>\n",
       "      <td>[{\"id\": 470, \"name\": \"spy\"}, {\"id\": 818, \"name...</td>\n",
       "      <td>en</td>\n",
       "      <td>Spectre</td>\n",
       "      <td>A cryptic message from Bond’s past sends him o...</td>\n",
       "      <td>107.376788</td>\n",
       "      <td>[{\"name\": \"Columbia Pictures\", \"id\": 5}, {\"nam...</td>\n",
       "      <td>[{\"iso_3166_1\": \"GB\", \"name\": \"United Kingdom\"...</td>\n",
       "      <td>2015-10-26</td>\n",
       "      <td>880674609</td>\n",
       "      <td>148.0</td>\n",
       "      <td>[{\"iso_639_1\": \"fr\", \"name\": \"Fran\\u00e7ais\"},...</td>\n",
       "      <td>Released</td>\n",
       "      <td>A Plan No One Escapes</td>\n",
       "      <td>Spectre</td>\n",
       "      <td>6.3</td>\n",
       "      <td>4466</td>\n",
       "    </tr>\n",
       "    <tr>\n",
       "      <th>3</th>\n",
       "      <td>250000000</td>\n",
       "      <td>[{\"id\": 28, \"name\": \"Action\"}, {\"id\": 80, \"nam...</td>\n",
       "      <td>http://www.thedarkknightrises.com/</td>\n",
       "      <td>49026</td>\n",
       "      <td>[{\"id\": 849, \"name\": \"dc comics\"}, {\"id\": 853,...</td>\n",
       "      <td>en</td>\n",
       "      <td>The Dark Knight Rises</td>\n",
       "      <td>Following the death of District Attorney Harve...</td>\n",
       "      <td>112.312950</td>\n",
       "      <td>[{\"name\": \"Legendary Pictures\", \"id\": 923}, {\"...</td>\n",
       "      <td>[{\"iso_3166_1\": \"US\", \"name\": \"United States o...</td>\n",
       "      <td>2012-07-16</td>\n",
       "      <td>1084939099</td>\n",
       "      <td>165.0</td>\n",
       "      <td>[{\"iso_639_1\": \"en\", \"name\": \"English\"}]</td>\n",
       "      <td>Released</td>\n",
       "      <td>The Legend Ends</td>\n",
       "      <td>The Dark Knight Rises</td>\n",
       "      <td>7.6</td>\n",
       "      <td>9106</td>\n",
       "    </tr>\n",
       "    <tr>\n",
       "      <th>4</th>\n",
       "      <td>260000000</td>\n",
       "      <td>[{\"id\": 28, \"name\": \"Action\"}, {\"id\": 12, \"nam...</td>\n",
       "      <td>http://movies.disney.com/john-carter</td>\n",
       "      <td>49529</td>\n",
       "      <td>[{\"id\": 818, \"name\": \"based on novel\"}, {\"id\":...</td>\n",
       "      <td>en</td>\n",
       "      <td>John Carter</td>\n",
       "      <td>John Carter is a war-weary, former military ca...</td>\n",
       "      <td>43.926995</td>\n",
       "      <td>[{\"name\": \"Walt Disney Pictures\", \"id\": 2}]</td>\n",
       "      <td>[{\"iso_3166_1\": \"US\", \"name\": \"United States o...</td>\n",
       "      <td>2012-03-07</td>\n",
       "      <td>284139100</td>\n",
       "      <td>132.0</td>\n",
       "      <td>[{\"iso_639_1\": \"en\", \"name\": \"English\"}]</td>\n",
       "      <td>Released</td>\n",
       "      <td>Lost in our world, found in another.</td>\n",
       "      <td>John Carter</td>\n",
       "      <td>6.1</td>\n",
       "      <td>2124</td>\n",
       "    </tr>\n",
       "  </tbody>\n",
       "</table>\n",
       "</div>"
      ],
      "text/plain": [
       "      budget                                             genres  \\\n",
       "0  237000000  [{\"id\": 28, \"name\": \"Action\"}, {\"id\": 12, \"nam...   \n",
       "1  300000000  [{\"id\": 12, \"name\": \"Adventure\"}, {\"id\": 14, \"...   \n",
       "2  245000000  [{\"id\": 28, \"name\": \"Action\"}, {\"id\": 12, \"nam...   \n",
       "3  250000000  [{\"id\": 28, \"name\": \"Action\"}, {\"id\": 80, \"nam...   \n",
       "4  260000000  [{\"id\": 28, \"name\": \"Action\"}, {\"id\": 12, \"nam...   \n",
       "\n",
       "                                       homepage      id  \\\n",
       "0                   http://www.avatarmovie.com/   19995   \n",
       "1  http://disney.go.com/disneypictures/pirates/     285   \n",
       "2   http://www.sonypictures.com/movies/spectre/  206647   \n",
       "3            http://www.thedarkknightrises.com/   49026   \n",
       "4          http://movies.disney.com/john-carter   49529   \n",
       "\n",
       "                                            keywords original_language  \\\n",
       "0  [{\"id\": 1463, \"name\": \"culture clash\"}, {\"id\":...                en   \n",
       "1  [{\"id\": 270, \"name\": \"ocean\"}, {\"id\": 726, \"na...                en   \n",
       "2  [{\"id\": 470, \"name\": \"spy\"}, {\"id\": 818, \"name...                en   \n",
       "3  [{\"id\": 849, \"name\": \"dc comics\"}, {\"id\": 853,...                en   \n",
       "4  [{\"id\": 818, \"name\": \"based on novel\"}, {\"id\":...                en   \n",
       "\n",
       "                             original_title  \\\n",
       "0                                    Avatar   \n",
       "1  Pirates of the Caribbean: At World's End   \n",
       "2                                   Spectre   \n",
       "3                     The Dark Knight Rises   \n",
       "4                               John Carter   \n",
       "\n",
       "                                            overview  popularity  \\\n",
       "0  In the 22nd century, a paraplegic Marine is di...  150.437577   \n",
       "1  Captain Barbossa, long believed to be dead, ha...  139.082615   \n",
       "2  A cryptic message from Bond’s past sends him o...  107.376788   \n",
       "3  Following the death of District Attorney Harve...  112.312950   \n",
       "4  John Carter is a war-weary, former military ca...   43.926995   \n",
       "\n",
       "                                production_companies  \\\n",
       "0  [{\"name\": \"Ingenious Film Partners\", \"id\": 289...   \n",
       "1  [{\"name\": \"Walt Disney Pictures\", \"id\": 2}, {\"...   \n",
       "2  [{\"name\": \"Columbia Pictures\", \"id\": 5}, {\"nam...   \n",
       "3  [{\"name\": \"Legendary Pictures\", \"id\": 923}, {\"...   \n",
       "4        [{\"name\": \"Walt Disney Pictures\", \"id\": 2}]   \n",
       "\n",
       "                                production_countries release_date     revenue  \\\n",
       "0  [{\"iso_3166_1\": \"US\", \"name\": \"United States o...   2009-12-10  2787965087   \n",
       "1  [{\"iso_3166_1\": \"US\", \"name\": \"United States o...   2007-05-19   961000000   \n",
       "2  [{\"iso_3166_1\": \"GB\", \"name\": \"United Kingdom\"...   2015-10-26   880674609   \n",
       "3  [{\"iso_3166_1\": \"US\", \"name\": \"United States o...   2012-07-16  1084939099   \n",
       "4  [{\"iso_3166_1\": \"US\", \"name\": \"United States o...   2012-03-07   284139100   \n",
       "\n",
       "   runtime                                   spoken_languages    status  \\\n",
       "0    162.0  [{\"iso_639_1\": \"en\", \"name\": \"English\"}, {\"iso...  Released   \n",
       "1    169.0           [{\"iso_639_1\": \"en\", \"name\": \"English\"}]  Released   \n",
       "2    148.0  [{\"iso_639_1\": \"fr\", \"name\": \"Fran\\u00e7ais\"},...  Released   \n",
       "3    165.0           [{\"iso_639_1\": \"en\", \"name\": \"English\"}]  Released   \n",
       "4    132.0           [{\"iso_639_1\": \"en\", \"name\": \"English\"}]  Released   \n",
       "\n",
       "                                          tagline  \\\n",
       "0                     Enter the World of Pandora.   \n",
       "1  At the end of the world, the adventure begins.   \n",
       "2                           A Plan No One Escapes   \n",
       "3                                 The Legend Ends   \n",
       "4            Lost in our world, found in another.   \n",
       "\n",
       "                                      title  vote_average  vote_count  \n",
       "0                                    Avatar           7.2       11800  \n",
       "1  Pirates of the Caribbean: At World's End           6.9        4500  \n",
       "2                                   Spectre           6.3        4466  \n",
       "3                     The Dark Knight Rises           7.6        9106  \n",
       "4                               John Carter           6.1        2124  "
      ]
     },
     "execution_count": 2,
     "metadata": {},
     "output_type": "execute_result"
    }
   ],
   "source": [
    "movies=pd.read_csv(\"tmdb_5000_movies.csv\")\n",
    "movies.head()"
   ]
  },
  {
   "cell_type": "code",
   "execution_count": 3,
   "id": "71955d7e-1c9d-4354-9705-8c80d82d48b0",
   "metadata": {},
   "outputs": [
    {
     "data": {
      "text/html": [
       "<div>\n",
       "<style scoped>\n",
       "    .dataframe tbody tr th:only-of-type {\n",
       "        vertical-align: middle;\n",
       "    }\n",
       "\n",
       "    .dataframe tbody tr th {\n",
       "        vertical-align: top;\n",
       "    }\n",
       "\n",
       "    .dataframe thead th {\n",
       "        text-align: right;\n",
       "    }\n",
       "</style>\n",
       "<table border=\"1\" class=\"dataframe\">\n",
       "  <thead>\n",
       "    <tr style=\"text-align: right;\">\n",
       "      <th></th>\n",
       "      <th>movie_id</th>\n",
       "      <th>title</th>\n",
       "      <th>cast</th>\n",
       "      <th>crew</th>\n",
       "    </tr>\n",
       "  </thead>\n",
       "  <tbody>\n",
       "    <tr>\n",
       "      <th>0</th>\n",
       "      <td>19995</td>\n",
       "      <td>Avatar</td>\n",
       "      <td>[{\"cast_id\": 242, \"character\": \"Jake Sully\", \"...</td>\n",
       "      <td>[{\"credit_id\": \"52fe48009251416c750aca23\", \"de...</td>\n",
       "    </tr>\n",
       "    <tr>\n",
       "      <th>1</th>\n",
       "      <td>285</td>\n",
       "      <td>Pirates of the Caribbean: At World's End</td>\n",
       "      <td>[{\"cast_id\": 4, \"character\": \"Captain Jack Spa...</td>\n",
       "      <td>[{\"credit_id\": \"52fe4232c3a36847f800b579\", \"de...</td>\n",
       "    </tr>\n",
       "    <tr>\n",
       "      <th>2</th>\n",
       "      <td>206647</td>\n",
       "      <td>Spectre</td>\n",
       "      <td>[{\"cast_id\": 1, \"character\": \"James Bond\", \"cr...</td>\n",
       "      <td>[{\"credit_id\": \"54805967c3a36829b5002c41\", \"de...</td>\n",
       "    </tr>\n",
       "    <tr>\n",
       "      <th>3</th>\n",
       "      <td>49026</td>\n",
       "      <td>The Dark Knight Rises</td>\n",
       "      <td>[{\"cast_id\": 2, \"character\": \"Bruce Wayne / Ba...</td>\n",
       "      <td>[{\"credit_id\": \"52fe4781c3a36847f81398c3\", \"de...</td>\n",
       "    </tr>\n",
       "    <tr>\n",
       "      <th>4</th>\n",
       "      <td>49529</td>\n",
       "      <td>John Carter</td>\n",
       "      <td>[{\"cast_id\": 5, \"character\": \"John Carter\", \"c...</td>\n",
       "      <td>[{\"credit_id\": \"52fe479ac3a36847f813eaa3\", \"de...</td>\n",
       "    </tr>\n",
       "  </tbody>\n",
       "</table>\n",
       "</div>"
      ],
      "text/plain": [
       "   movie_id                                     title  \\\n",
       "0     19995                                    Avatar   \n",
       "1       285  Pirates of the Caribbean: At World's End   \n",
       "2    206647                                   Spectre   \n",
       "3     49026                     The Dark Knight Rises   \n",
       "4     49529                               John Carter   \n",
       "\n",
       "                                                cast  \\\n",
       "0  [{\"cast_id\": 242, \"character\": \"Jake Sully\", \"...   \n",
       "1  [{\"cast_id\": 4, \"character\": \"Captain Jack Spa...   \n",
       "2  [{\"cast_id\": 1, \"character\": \"James Bond\", \"cr...   \n",
       "3  [{\"cast_id\": 2, \"character\": \"Bruce Wayne / Ba...   \n",
       "4  [{\"cast_id\": 5, \"character\": \"John Carter\", \"c...   \n",
       "\n",
       "                                                crew  \n",
       "0  [{\"credit_id\": \"52fe48009251416c750aca23\", \"de...  \n",
       "1  [{\"credit_id\": \"52fe4232c3a36847f800b579\", \"de...  \n",
       "2  [{\"credit_id\": \"54805967c3a36829b5002c41\", \"de...  \n",
       "3  [{\"credit_id\": \"52fe4781c3a36847f81398c3\", \"de...  \n",
       "4  [{\"credit_id\": \"52fe479ac3a36847f813eaa3\", \"de...  "
      ]
     },
     "execution_count": 3,
     "metadata": {},
     "output_type": "execute_result"
    }
   ],
   "source": [
    "credits=pd.read_csv(\"tmdb_5000_credits.csv\")\n",
    "credits.head()"
   ]
  },
  {
   "cell_type": "code",
   "execution_count": 4,
   "id": "6c0c4def-81ff-49f1-a9fe-408844cfed9d",
   "metadata": {},
   "outputs": [
    {
     "data": {
      "text/plain": [
       "id       0\n",
       "title    0\n",
       "cast     0\n",
       "crew     0\n",
       "dtype: int64"
      ]
     },
     "execution_count": 4,
     "metadata": {},
     "output_type": "execute_result"
    }
   ],
   "source": [
    "credits=credits.rename(columns={\"movie_id\":\"id\"})\n",
    "credits.isna().sum()"
   ]
  },
  {
   "cell_type": "markdown",
   "id": "14702fc8-27c7-47d6-ad96-bf501bf1dfee",
   "metadata": {},
   "source": [
    "# Manupulating credit data"
   ]
  },
  {
   "cell_type": "code",
   "execution_count": 5,
   "id": "9fafc457-7106-4efb-8d23-3bf69b31f3ab",
   "metadata": {
    "scrolled": true
   },
   "outputs": [
    {
     "data": {
      "text/plain": [
       "'[{\"cast_id\": 4, \"character\": \"Daisy\", \"credit_id\": \"52fe43e2c3a36847f807632b\", \"gender\": 1, \"id\": 112, \"name\": \"Cate Blanchett\", \"order\": 0}, {\"cast_id\": 5, \"character\": \"Benjamin Button\", \"credit_id\": \"52fe43e2c3a36847f807632f\", \"gender\": 2, \"id\": 287, \"name\": \"Brad Pitt\", \"order\": 1}, {\"cast_id\": 6, \"character\": \"Elizabeth Abbott\", \"credit_id\": \"52fe43e2c3a36847f8076333\", \"gender\": 1, \"id\": 3063, \"name\": \"Tilda Swinton\", \"order\": 2}, {\"cast_id\": 10, \"character\": \"Caroline\", \"credit_id\": \"52fe43e2c3a36847f8076343\", \"gender\": 1, \"id\": 15887, \"name\": \"Julia Ormond\", \"order\": 3}, {\"cast_id\": 7, \"character\": \"Daisy Age 7\", \"credit_id\": \"52fe43e2c3a36847f8076337\", \"gender\": 1, \"id\": 18050, \"name\": \"Elle Fanning\", \"order\": 4}, {\"cast_id\": 183, \"character\": \"Daisy Age 10\", \"credit_id\": \"56ec883a9251414dba0022af\", \"gender\": 1, \"id\": 219666, \"name\": \"Madisen Beaty\", \"order\": 5}, {\"cast_id\": 8, \"character\": \"Thomas Button\", \"credit_id\": \"52fe43e2c3a36847f807633b\", \"gender\": 2, \"id\": 973, \"name\": \"Jason Flemyng\", \"order\": 6}, {\"cast_id\": 9, \"character\": \"Monsieur Gateau\", \"credit_id\": \"52fe43e2c3a36847f807633f\", \"gender\": 2, \"id\": 13550, \"name\": \"Elias Koteas\", \"order\": 7}, {\"cast_id\": 11, \"character\": \"Queenie\", \"credit_id\": \"52fe43e2c3a36847f8076347\", \"gender\": 1, \"id\": 40036, \"name\": \"Taraji P. Henson\", \"order\": 8}, {\"cast_id\": 13, \"character\": \"Pleasant Curtis\", \"credit_id\": \"52fe43e2c3a36847f807634f\", \"gender\": 2, \"id\": 40039, \"name\": \"Josh Stewart\", \"order\": 9}, {\"cast_id\": 15, \"character\": \"Dorothy Baker\", \"credit_id\": \"52fe43e2c3a36847f8076359\", \"gender\": 1, \"id\": 58953, \"name\": \"Faune A. Chambers\", \"order\": 10}, {\"cast_id\": 16, \"character\": \"Blanche Devereux\", \"credit_id\": \"52fe43e2c3a36847f807635d\", \"gender\": 1, \"id\": 230995, \"name\": \"Donna DuPlantier\", \"order\": 11}, {\"cast_id\": 17, \"character\": \"Martin Gateau\", \"credit_id\": \"52fe43e2c3a36847f8076361\", \"gender\": 2, \"id\": 1074186, \"name\": \"Jacob Tolano\", \"order\": 12}, {\"cast_id\": 19, \"character\": \"Teddy Roosevelt\", \"credit_id\": \"52fe43e2c3a36847f8076369\", \"gender\": 0, \"id\": 231274, \"name\": \"Ed Metzger\", \"order\": 13}, {\"cast_id\": 20, \"character\": \"Priest Giving Last Rites\", \"credit_id\": \"52fe43e2c3a36847f807636d\", \"gender\": 0, \"id\": 1074187, \"name\": \"Danny Vinson\", \"order\": 14}, {\"cast_id\": 21, \"character\": \"Doctor at Benjamin\\'s Birth\", \"credit_id\": \"52fe43e2c3a36847f8076371\", \"gender\": 2, \"id\": 60875, \"name\": \"David Jensen\", \"order\": 15}, {\"cast_id\": 22, \"character\": \"Caroline Button\", \"credit_id\": \"52fe43e2c3a36847f8076375\", \"gender\": 1, \"id\": 203867, \"name\": \"Joeanna Sayler\", \"order\": 16}, {\"cast_id\": 180, \"character\": \"Robert Williams\", \"credit_id\": \"56ec756b9251415e620035ae\", \"gender\": 2, \"id\": 52483, \"name\": \"Rus Blackwell\", \"order\": 17}, {\"cast_id\": 23, \"character\": \"Tizzy\", \"credit_id\": \"52fe43e2c3a36847f8076379\", \"gender\": 2, \"id\": 932967, \"name\": \"Mahershala Ali\", \"order\": 18}, {\"cast_id\": 191, \"character\": \"David\", \"credit_id\": \"573e41e99251413fdc000768\", \"gender\": 2, \"id\": 928295, \"name\": \"Adrian Armas\", \"order\": 19}, {\"cast_id\": 24, \"character\": \"Grandma Fuller\", \"credit_id\": \"52fe43e2c3a36847f807637d\", \"gender\": 1, \"id\": 17184, \"name\": \"Phyllis Somerville\", \"order\": 20}, {\"cast_id\": 177, \"character\": \"Preacher\", \"credit_id\": \"56ec6d279251415e59003162\", \"gender\": 2, \"id\": 101847, \"name\": \"Lance E. Nichols\", \"order\": 21}, {\"cast_id\": 194, \"character\": \"Walter Abbott\", \"credit_id\": \"58cec8f7c3a368508c025b00\", \"gender\": 2, \"id\": 1235414, \"name\": \"David Ross Paterson\", \"order\": 22}, {\"cast_id\": 181, \"character\": \"Mrs. Hollister\", \"credit_id\": \"56ec7f67c3a3682253003c55\", \"gender\": 1, \"id\": 1219313, \"name\": \"Fiona Hale\", \"order\": 23}, {\"cast_id\": 184, \"character\": \"Mrs. Horton\", \"credit_id\": \"56ec89f492514143fc003897\", \"gender\": 1, \"id\": 60388, \"name\": \"Marion Zinser\", \"order\": 24}, {\"cast_id\": 189, \"character\": \"Mrs. Maple\", \"credit_id\": \"56ec8eafc3a368224e003c66\", \"gender\": 1, \"id\": 44063, \"name\": \"Edith Ivey\", \"order\": 25}, {\"cast_id\": 182, \"character\": \"Dr. Rose\", \"credit_id\": \"56ec8759c3a36822650037c5\", \"gender\": 2, \"id\": 75325, \"name\": \"Patrick Thomas O\\'Brien\", \"order\": 26}, {\"cast_id\": 187, \"character\": \"Mr. Daws\", \"credit_id\": \"56ec8e86c3a3682253003ebe\", \"gender\": 2, \"id\": 86812, \"name\": \"Ted Manson\", \"order\": 27}, {\"cast_id\": 188, \"character\": \"Young Mr. Daws\", \"credit_id\": \"56ec8e9c9251414408003808\", \"gender\": 2, \"id\": 60536, \"name\": \"Clay Cullen\", \"order\": 28}, {\"cast_id\": 185, \"character\": \"Benjamin 1928-31\", \"credit_id\": \"56ec8af892514144010038f1\", \"gender\": 2, \"id\": 1056117, \"name\": \"Peter Donald Badalamenti II\", \"order\": 29}, {\"cast_id\": 186, \"character\": \"Sybil Wagner\", \"credit_id\": \"56ec8dcbc3a3682251003fac\", \"gender\": 1, \"id\": 1592644, \"name\": \"Paula Gray\", \"order\": 30}, {\"cast_id\": 193, \"character\": \"Captain Mike\", \"credit_id\": \"57e4f699c3a3684225000727\", \"gender\": 2, \"id\": 15440, \"name\": \"Jared Harris\", \"order\": 31}, {\"cast_id\": 18, \"character\": \"Man at Train Station\", \"credit_id\": \"52fe43e2c3a36847f8076365\", \"gender\": 2, \"id\": 60884, \"name\": \"Earl Maddox\", \"order\": 32}, {\"cast_id\": 12, \"character\": \"Ballerina Who Ties Up Shoelace (uncredited)\", \"credit_id\": \"52fe43e2c3a36847f807634b\", \"gender\": 1, \"id\": 40038, \"name\": \"Bianca Chiminello\", \"order\": 33}, {\"cast_id\": 178, \"character\": \"Ballet Dancer (uncredited)\", \"credit_id\": \"56ec731cc3a36822650034be\", \"gender\": 1, \"id\": 1224131, \"name\": \"Emma Degerstedt\", \"order\": 34}, {\"cast_id\": 179, \"character\": \"Woman Kissing Benjamin (uncredited)\", \"credit_id\": \"56ec73a6c3a3682256003905\", \"gender\": 1, \"id\": 1169284, \"name\": \"Megan Brown\", \"order\": 35}, {\"cast_id\": 192, \"character\": \"The Grumpy Sailor (uncredited)\", \"credit_id\": \"57591733925141754800087e\", \"gender\": 2, \"id\": 1503756, \"name\": \"Clay Chamberlin\", \"order\": 36}]'"
      ]
     },
     "execution_count": 5,
     "metadata": {},
     "output_type": "execute_result"
    }
   ],
   "source": [
    "credits[\"cast\"].iloc[100]"
   ]
  },
  {
   "cell_type": "code",
   "execution_count": 6,
   "id": "a0bb84d5-31c7-4039-9d03-47ec055004f4",
   "metadata": {},
   "outputs": [],
   "source": [
    "# Taking top 5 names"
   ]
  },
  {
   "cell_type": "code",
   "execution_count": 7,
   "id": "34326537-9c18-4991-87c4-ada7b16927d1",
   "metadata": {},
   "outputs": [],
   "source": [
    "def get_top_5_names(x):\n",
    "    L=[]\n",
    "    content=ast.literal_eval(x)\n",
    "    if(len(content)>=5):\n",
    "        for i in range(0,5):\n",
    "            name=content[i][\"name\"]\n",
    "            name=name.replace(\" \",\"\")\n",
    "            name=name.lower()\n",
    "            L.append(name)\n",
    "    else:\n",
    "        for i in range(len(content)):\n",
    "            name=content[i][\"name\"]\n",
    "            name=name.replace(\" \",\"\")\n",
    "            name=name.lower()\n",
    "            L.append(name)\n",
    "    return L\n",
    "credits[\"cast\"]=credits[\"cast\"].apply(get_top_5_names)"
   ]
  },
  {
   "cell_type": "code",
   "execution_count": 8,
   "id": "c43ceddb-03ab-41c2-9c19-3b7264dfa1d8",
   "metadata": {},
   "outputs": [
    {
     "data": {
      "text/plain": [
       "['samworthington',\n",
       " 'zoesaldana',\n",
       " 'sigourneyweaver',\n",
       " 'stephenlang',\n",
       " 'michellerodriguez']"
      ]
     },
     "execution_count": 8,
     "metadata": {},
     "output_type": "execute_result"
    }
   ],
   "source": [
    "credits[\"cast\"][0]  # Perfect"
   ]
  },
  {
   "cell_type": "code",
   "execution_count": 9,
   "id": "23334e00-6bd6-4e87-adb3-dcd4d231080d",
   "metadata": {},
   "outputs": [
    {
     "data": {
      "text/plain": [
       "'[{\"credit_id\": \"553bef6a9251416874003c8f\", \"department\": \"Production\", \"gender\": 2, \"id\": 3276, \"job\": \"Casting\", \"name\": \"Roger Mussenden\"}, {\"credit_id\": \"553bee5592514135c800283e\", \"department\": \"Production\", \"gender\": 2, \"id\": 3805, \"job\": \"Producer\", \"name\": \"Jon Peters\"}, {\"credit_id\": \"52fe42f8c3a36847f8030bb1\", \"department\": \"Production\", \"gender\": 0, \"id\": 13192, \"job\": \"Production Manager\", \"name\": \"Diane Macke\"}, {\"credit_id\": \"553bee6692514157f0000b54\", \"department\": \"Production\", \"gender\": 2, \"id\": 10953, \"job\": \"Producer\", \"name\": \"Gilbert Adler\"}, {\"credit_id\": \"52fe42f8c3a36847f8030b6f\", \"department\": \"Directing\", \"gender\": 2, \"id\": 9032, \"job\": \"Director\", \"name\": \"Bryan Singer\"}, {\"credit_id\": \"52fe42f8c3a36847f8030b75\", \"department\": \"Production\", \"gender\": 2, \"id\": 9032, \"job\": \"Producer\", \"name\": \"Bryan Singer\"}, {\"credit_id\": \"553bee83c3a36820ec002201\", \"department\": \"Writing\", \"gender\": 2, \"id\": 9032, \"job\": \"Story\", \"name\": \"Bryan Singer\"}, {\"credit_id\": \"553bef4dc3a368784500af4a\", \"department\": \"Editing\", \"gender\": 2, \"id\": 9039, \"job\": \"Editor\", \"name\": \"John Ottman\"}, {\"credit_id\": \"52fe42f8c3a36847f8030b87\", \"department\": \"Sound\", \"gender\": 2, \"id\": 9039, \"job\": \"Original Music Composer\", \"name\": \"John Ottman\"}, {\"credit_id\": \"52fe42f8c3a36847f8030b81\", \"department\": \"Camera\", \"gender\": 0, \"id\": 9040, \"job\": \"Director of Photography\", \"name\": \"Newton Thomas Sigel\"}, {\"credit_id\": \"52fe42f8c3a36847f8030b7b\", \"department\": \"Writing\", \"gender\": 2, \"id\": 11012, \"job\": \"Screenplay\", \"name\": \"Michael Dougherty\"}, {\"credit_id\": \"553bee92925141275e005a32\", \"department\": \"Writing\", \"gender\": 2, \"id\": 11012, \"job\": \"Story\", \"name\": \"Michael Dougherty\"}, {\"credit_id\": \"553beeb59251413f5a0063aa\", \"department\": \"Writing\", \"gender\": 0, \"id\": 20007, \"job\": \"Characters\", \"name\": \"Jerry Siegel\"}, {\"credit_id\": \"553beec3c3a3685cf8005e69\", \"department\": \"Writing\", \"gender\": 0, \"id\": 20008, \"job\": \"Characters\", \"name\": \"Joe Shuster\"}, {\"credit_id\": \"553bef15c3a368784500af42\", \"department\": \"Production\", \"gender\": 2, \"id\": 21697, \"job\": \"Executive Producer\", \"name\": \"Chris Lee\"}, {\"credit_id\": \"553beef7925141275e005a3c\", \"department\": \"Production\", \"gender\": 0, \"id\": 54211, \"job\": \"Executive Producer\", \"name\": \"Thomas Tull\"}, {\"credit_id\": \"553bef06c3a36831dd00c699\", \"department\": \"Production\", \"gender\": 2, \"id\": 54212, \"job\": \"Executive Producer\", \"name\": \"William Fay\"}, {\"credit_id\": \"553bef3a9251412c270017fe\", \"department\": \"Editing\", \"gender\": 0, \"id\": 11017, \"job\": \"Editor\", \"name\": \"Elliot Graham\"}, {\"credit_id\": \"553bef22c3a36874620005d6\", \"department\": \"Production\", \"gender\": 2, \"id\": 60245, \"job\": \"Executive Producer\", \"name\": \"Scott Mednick\"}, {\"credit_id\": \"553bef5ac3a3683c4800288f\", \"department\": \"Production\", \"gender\": 1, \"id\": 61624, \"job\": \"Casting\", \"name\": \"Ann Robinson\"}, {\"credit_id\": \"553bee75c3a368784500af32\", \"department\": \"Writing\", \"gender\": 2, \"id\": 11013, \"job\": \"Screenplay\", \"name\": \"Dan Harris\"}, {\"credit_id\": \"553bee9fc3a36874620005c9\", \"department\": \"Writing\", \"gender\": 2, \"id\": 11013, \"job\": \"Story\", \"name\": \"Dan Harris\"}, {\"credit_id\": \"553beee8c3a36874620005cf\", \"department\": \"Production\", \"gender\": 0, \"id\": 1121617, \"job\": \"Co-Producer\", \"name\": \"Stephen Jones\"}, {\"credit_id\": \"553bf01dc3a36831dd00c6b1\", \"department\": \"Art\", \"gender\": 0, \"id\": 1271644, \"job\": \"Production Design\", \"name\": \"Guy Hendrix Dyas\"}]'"
      ]
     },
     "execution_count": 9,
     "metadata": {},
     "output_type": "execute_result"
    }
   ],
   "source": [
    "credits[\"crew\"].iloc[10]  # Lets take director and producer out"
   ]
  },
  {
   "cell_type": "code",
   "execution_count": 10,
   "id": "0e567916-58e5-4184-830d-4c31c68d582a",
   "metadata": {},
   "outputs": [],
   "source": [
    "def get_deirector_producer(x):\n",
    "    L=[]\n",
    "    content=ast.literal_eval(x)\n",
    "    for row in range(len(content)):\n",
    "        if content[row][\"job\"]==\"Director\":\n",
    "            name=content[row][\"name\"]\n",
    "            name=name.replace(\" \",\"\")\n",
    "            name=name.lower()\n",
    "            L.append(name)\n",
    "        elif content[row][\"job\"]==\"Producer\":\n",
    "            name=content[row][\"name\"]\n",
    "            name=name.replace(\" \",\"\")\n",
    "            name=name.lower()\n",
    "            L.append(name)\n",
    "    \n",
    "    return list(set(L))\n",
    "credits[\"crew\"]=credits[\"crew\"].apply(get_deirector_producer)"
   ]
  },
  {
   "cell_type": "code",
   "execution_count": 11,
   "id": "96024529-226a-4b3a-91d7-2e30bfc22451",
   "metadata": {},
   "outputs": [
    {
     "data": {
      "text/plain": [
       "['gilbertadler', 'jonpeters', 'bryansinger']"
      ]
     },
     "execution_count": 11,
     "metadata": {},
     "output_type": "execute_result"
    }
   ],
   "source": [
    "credits[\"crew\"][10]"
   ]
  },
  {
   "cell_type": "code",
   "execution_count": 12,
   "id": "3966185e-9012-4b98-8921-4b5d77b0cc30",
   "metadata": {},
   "outputs": [
    {
     "data": {
      "text/html": [
       "<div>\n",
       "<style scoped>\n",
       "    .dataframe tbody tr th:only-of-type {\n",
       "        vertical-align: middle;\n",
       "    }\n",
       "\n",
       "    .dataframe tbody tr th {\n",
       "        vertical-align: top;\n",
       "    }\n",
       "\n",
       "    .dataframe thead th {\n",
       "        text-align: right;\n",
       "    }\n",
       "</style>\n",
       "<table border=\"1\" class=\"dataframe\">\n",
       "  <thead>\n",
       "    <tr style=\"text-align: right;\">\n",
       "      <th></th>\n",
       "      <th>id</th>\n",
       "      <th>title</th>\n",
       "      <th>cast</th>\n",
       "      <th>crew</th>\n",
       "    </tr>\n",
       "  </thead>\n",
       "  <tbody>\n",
       "    <tr>\n",
       "      <th>0</th>\n",
       "      <td>19995</td>\n",
       "      <td>Avatar</td>\n",
       "      <td>[samworthington, zoesaldana, sigourneyweaver, ...</td>\n",
       "      <td>[jonlandau, jamescameron]</td>\n",
       "    </tr>\n",
       "    <tr>\n",
       "      <th>1</th>\n",
       "      <td>285</td>\n",
       "      <td>Pirates of the Caribbean: At World's End</td>\n",
       "      <td>[johnnydepp, orlandobloom, keiraknightley, ste...</td>\n",
       "      <td>[chadoman, ericmcleod, peterkohn, jerrybruckhe...</td>\n",
       "    </tr>\n",
       "    <tr>\n",
       "      <th>2</th>\n",
       "      <td>206647</td>\n",
       "      <td>Spectre</td>\n",
       "      <td>[danielcraig, christophwaltz, léaseydoux, ralp...</td>\n",
       "      <td>[barbarabroccoli, michaelg.wilson, sammendes]</td>\n",
       "    </tr>\n",
       "    <tr>\n",
       "      <th>3</th>\n",
       "      <td>49026</td>\n",
       "      <td>The Dark Knight Rises</td>\n",
       "      <td>[christianbale, michaelcaine, garyoldman, anne...</td>\n",
       "      <td>[charlesroven, emmathomas, christophernolan]</td>\n",
       "    </tr>\n",
       "    <tr>\n",
       "      <th>4</th>\n",
       "      <td>49529</td>\n",
       "      <td>John Carter</td>\n",
       "      <td>[taylorkitsch, lynncollins, samanthamorton, wi...</td>\n",
       "      <td>[jimmorris, lindseycollins, andrewstanton, col...</td>\n",
       "    </tr>\n",
       "  </tbody>\n",
       "</table>\n",
       "</div>"
      ],
      "text/plain": [
       "       id                                     title  \\\n",
       "0   19995                                    Avatar   \n",
       "1     285  Pirates of the Caribbean: At World's End   \n",
       "2  206647                                   Spectre   \n",
       "3   49026                     The Dark Knight Rises   \n",
       "4   49529                               John Carter   \n",
       "\n",
       "                                                cast  \\\n",
       "0  [samworthington, zoesaldana, sigourneyweaver, ...   \n",
       "1  [johnnydepp, orlandobloom, keiraknightley, ste...   \n",
       "2  [danielcraig, christophwaltz, léaseydoux, ralp...   \n",
       "3  [christianbale, michaelcaine, garyoldman, anne...   \n",
       "4  [taylorkitsch, lynncollins, samanthamorton, wi...   \n",
       "\n",
       "                                                crew  \n",
       "0                          [jonlandau, jamescameron]  \n",
       "1  [chadoman, ericmcleod, peterkohn, jerrybruckhe...  \n",
       "2      [barbarabroccoli, michaelg.wilson, sammendes]  \n",
       "3       [charlesroven, emmathomas, christophernolan]  \n",
       "4  [jimmorris, lindseycollins, andrewstanton, col...  "
      ]
     },
     "execution_count": 12,
     "metadata": {},
     "output_type": "execute_result"
    }
   ],
   "source": [
    "credits.head()"
   ]
  },
  {
   "cell_type": "markdown",
   "id": "409e417c-fcaa-4d3a-bb14-e0236ff0ea71",
   "metadata": {},
   "source": [
    "# Movies data Manupulation"
   ]
  },
  {
   "cell_type": "code",
   "execution_count": 13,
   "id": "a7856bc2-9e58-407b-9a1f-b7c0614daf94",
   "metadata": {},
   "outputs": [
    {
     "data": {
      "text/plain": [
       "Index(['budget', 'genres', 'homepage', 'id', 'keywords', 'original_language',\n",
       "       'original_title', 'overview', 'popularity', 'production_companies',\n",
       "       'production_countries', 'release_date', 'revenue', 'runtime',\n",
       "       'spoken_languages', 'status', 'tagline', 'title', 'vote_average',\n",
       "       'vote_count'],\n",
       "      dtype='object')"
      ]
     },
     "execution_count": 13,
     "metadata": {},
     "output_type": "execute_result"
    }
   ],
   "source": [
    "movies.columns"
   ]
  },
  {
   "cell_type": "code",
   "execution_count": 14,
   "id": "99b8a3cb-36e2-43d3-ba10-eea0b026b474",
   "metadata": {},
   "outputs": [],
   "source": [
    "# Columns to keep\n",
    "# genres,id,keywords,overview,tagline,title"
   ]
  },
  {
   "cell_type": "code",
   "execution_count": 15,
   "id": "3ff17352-2d62-4686-a3d1-9e96dd71f737",
   "metadata": {},
   "outputs": [],
   "source": [
    "movies=movies[['genres','keywords','overview','tagline','title']]"
   ]
  },
  {
   "cell_type": "code",
   "execution_count": 16,
   "id": "d148717a-444b-49dd-8fad-64b78c57be9e",
   "metadata": {},
   "outputs": [
    {
     "name": "stdout",
     "output_type": "stream",
     "text": [
      "<class 'pandas.core.frame.DataFrame'>\n",
      "RangeIndex: 4803 entries, 0 to 4802\n",
      "Data columns (total 5 columns):\n",
      " #   Column    Non-Null Count  Dtype \n",
      "---  ------    --------------  ----- \n",
      " 0   genres    4803 non-null   object\n",
      " 1   keywords  4803 non-null   object\n",
      " 2   overview  4800 non-null   object\n",
      " 3   tagline   3959 non-null   object\n",
      " 4   title     4803 non-null   object\n",
      "dtypes: object(5)\n",
      "memory usage: 187.7+ KB\n"
     ]
    },
    {
     "data": {
      "text/plain": [
       "(None,\n",
       " genres        0\n",
       " keywords      0\n",
       " overview      3\n",
       " tagline     844\n",
       " title         0\n",
       " dtype: int64)"
      ]
     },
     "execution_count": 16,
     "metadata": {},
     "output_type": "execute_result"
    }
   ],
   "source": [
    "movies.info(),movies.isna().sum()"
   ]
  },
  {
   "cell_type": "code",
   "execution_count": 17,
   "id": "c552ab62-e06e-4c12-9b7d-8329a09b4197",
   "metadata": {},
   "outputs": [
    {
     "data": {
      "text/plain": [
       "'[{\"id\": 28, \"name\": \"Action\"}, {\"id\": 12, \"name\": \"Adventure\"}, {\"id\": 14, \"name\": \"Fantasy\"}, {\"id\": 878, \"name\": \"Science Fiction\"}]'"
      ]
     },
     "execution_count": 17,
     "metadata": {},
     "output_type": "execute_result"
    }
   ],
   "source": [
    "movies[\"genres\"][0]"
   ]
  },
  {
   "cell_type": "code",
   "execution_count": 18,
   "id": "272fc958-bcc3-4c61-9a62-c4cc90be0ec1",
   "metadata": {},
   "outputs": [],
   "source": [
    "def genre(x):\n",
    "    L=[]\n",
    "    content=ast.literal_eval(x)\n",
    "    for i in range(len(content)):\n",
    "        name=content[i][\"name\"]\n",
    "        name=name.replace(\" \",\"\")\n",
    "        name=name.lower()\n",
    "        L.append(name)\n",
    "    return L\n",
    "movies[\"genres\"]=movies[\"genres\"].apply(genre)"
   ]
  },
  {
   "cell_type": "code",
   "execution_count": 19,
   "id": "ed9fa87e-0acb-4bfb-91ff-66c21c8bca89",
   "metadata": {},
   "outputs": [
    {
     "data": {
      "text/plain": [
       "['action', 'adventure', 'fantasy', 'sciencefiction']"
      ]
     },
     "execution_count": 19,
     "metadata": {},
     "output_type": "execute_result"
    }
   ],
   "source": [
    "movies[\"genres\"][0]"
   ]
  },
  {
   "cell_type": "code",
   "execution_count": 20,
   "id": "439b436d-dbf7-40fe-8f5f-8b92bf76df1a",
   "metadata": {},
   "outputs": [
    {
     "data": {
      "text/plain": [
       "'[{\"id\": 1463, \"name\": \"culture clash\"}, {\"id\": 2964, \"name\": \"future\"}, {\"id\": 3386, \"name\": \"space war\"}, {\"id\": 3388, \"name\": \"space colony\"}, {\"id\": 3679, \"name\": \"society\"}, {\"id\": 3801, \"name\": \"space travel\"}, {\"id\": 9685, \"name\": \"futuristic\"}, {\"id\": 9840, \"name\": \"romance\"}, {\"id\": 9882, \"name\": \"space\"}, {\"id\": 9951, \"name\": \"alien\"}, {\"id\": 10148, \"name\": \"tribe\"}, {\"id\": 10158, \"name\": \"alien planet\"}, {\"id\": 10987, \"name\": \"cgi\"}, {\"id\": 11399, \"name\": \"marine\"}, {\"id\": 13065, \"name\": \"soldier\"}, {\"id\": 14643, \"name\": \"battle\"}, {\"id\": 14720, \"name\": \"love affair\"}, {\"id\": 165431, \"name\": \"anti war\"}, {\"id\": 193554, \"name\": \"power relations\"}, {\"id\": 206690, \"name\": \"mind and soul\"}, {\"id\": 209714, \"name\": \"3d\"}]'"
      ]
     },
     "execution_count": 20,
     "metadata": {},
     "output_type": "execute_result"
    }
   ],
   "source": [
    "movies[\"keywords\"][0]"
   ]
  },
  {
   "cell_type": "code",
   "execution_count": 21,
   "id": "9b43e3ec-7e42-4f91-9c3d-adbba0531fec",
   "metadata": {},
   "outputs": [],
   "source": [
    "def keywords(x):\n",
    "    L=[]\n",
    "    content=ast.literal_eval(x)\n",
    "    for i in range(len(content)):\n",
    "        name=content[i][\"name\"]\n",
    "        name=name.replace(\" \",\"\")\n",
    "        name=name.lower()\n",
    "        L.append(name)\n",
    "    return L\n",
    "movies[\"keywords\"]=movies[\"keywords\"].apply(keywords)"
   ]
  },
  {
   "cell_type": "code",
   "execution_count": 22,
   "id": "5cc56b22-6830-49e9-b615-757e4413d0f0",
   "metadata": {},
   "outputs": [
    {
     "data": {
      "text/plain": [
       "['cultureclash',\n",
       " 'future',\n",
       " 'spacewar',\n",
       " 'spacecolony',\n",
       " 'society',\n",
       " 'spacetravel',\n",
       " 'futuristic',\n",
       " 'romance',\n",
       " 'space',\n",
       " 'alien',\n",
       " 'tribe',\n",
       " 'alienplanet',\n",
       " 'cgi',\n",
       " 'marine',\n",
       " 'soldier',\n",
       " 'battle',\n",
       " 'loveaffair',\n",
       " 'antiwar',\n",
       " 'powerrelations',\n",
       " 'mindandsoul',\n",
       " '3d']"
      ]
     },
     "execution_count": 22,
     "metadata": {},
     "output_type": "execute_result"
    }
   ],
   "source": [
    "movies[\"keywords\"][0]"
   ]
  },
  {
   "cell_type": "code",
   "execution_count": 23,
   "id": "d7916660-2ca6-4f1d-b5ca-249a3e691184",
   "metadata": {},
   "outputs": [
    {
     "data": {
      "text/plain": [
       "'In the 22nd century, a paraplegic Marine is dispatched to the moon Pandora on a unique mission, but becomes torn between following orders and protecting an alien civilization.'"
      ]
     },
     "execution_count": 23,
     "metadata": {},
     "output_type": "execute_result"
    }
   ],
   "source": [
    "movies[\"overview\"][0]"
   ]
  },
  {
   "cell_type": "code",
   "execution_count": 24,
   "id": "e6cb4db1-cc13-4e44-9c95-74a2ef5f55d3",
   "metadata": {},
   "outputs": [],
   "source": [
    "def overview(x):\n",
    "    if x is not np.nan:\n",
    "        cleaned = re.sub(r'[^\\w\\s]', '', x)\n",
    "        cleaned = cleaned.lower()\n",
    "        L=cleaned.split(\" \")\n",
    "    else:\n",
    "        L=[]\n",
    "    return L\n",
    "movies[\"overview\"]=movies[\"overview\"].apply(overview)"
   ]
  },
  {
   "cell_type": "code",
   "execution_count": 25,
   "id": "5e6325c2-61d2-4a7b-bfc9-287adec4bda9",
   "metadata": {
    "scrolled": true
   },
   "outputs": [
    {
     "data": {
      "text/plain": [
       "['in',\n",
       " 'the',\n",
       " '22nd',\n",
       " 'century',\n",
       " 'a',\n",
       " 'paraplegic',\n",
       " 'marine',\n",
       " 'is',\n",
       " 'dispatched',\n",
       " 'to',\n",
       " 'the',\n",
       " 'moon',\n",
       " 'pandora',\n",
       " 'on',\n",
       " 'a',\n",
       " 'unique',\n",
       " 'mission',\n",
       " 'but',\n",
       " 'becomes',\n",
       " 'torn',\n",
       " 'between',\n",
       " 'following',\n",
       " 'orders',\n",
       " 'and',\n",
       " 'protecting',\n",
       " 'an',\n",
       " 'alien',\n",
       " 'civilization']"
      ]
     },
     "execution_count": 25,
     "metadata": {},
     "output_type": "execute_result"
    }
   ],
   "source": [
    "movies[\"overview\"][0]"
   ]
  },
  {
   "cell_type": "code",
   "execution_count": 26,
   "id": "cfa60198-e5e8-4de0-a893-6701cda9f49e",
   "metadata": {},
   "outputs": [
    {
     "data": {
      "text/plain": [
       "'Enter the World of Pandora.'"
      ]
     },
     "execution_count": 26,
     "metadata": {},
     "output_type": "execute_result"
    }
   ],
   "source": [
    "movies[\"tagline\"][0]"
   ]
  },
  {
   "cell_type": "code",
   "execution_count": 27,
   "id": "6d01d606-a591-42f5-8f70-265676ce3244",
   "metadata": {},
   "outputs": [],
   "source": [
    "def overview(x):\n",
    "    if x is not np.nan:\n",
    "        cleaned = re.sub(r'[^\\w\\s]', '', x)\n",
    "        cleaned = cleaned.lower()\n",
    "        L=cleaned.split(\" \")\n",
    "    else:\n",
    "        L=[]\n",
    "    return L\n",
    "movies[\"tagline\"]=movies[\"tagline\"].apply(overview)"
   ]
  },
  {
   "cell_type": "code",
   "execution_count": 28,
   "id": "2e6fa998-d92b-4972-a0b8-c04432352531",
   "metadata": {},
   "outputs": [
    {
     "data": {
      "text/plain": [
       "['enter', 'the', 'world', 'of', 'pandora']"
      ]
     },
     "execution_count": 28,
     "metadata": {},
     "output_type": "execute_result"
    }
   ],
   "source": [
    "movies[\"tagline\"][0]"
   ]
  },
  {
   "cell_type": "markdown",
   "id": "d5c6b7e7-4d1e-44f7-bd72-1e46668f3fde",
   "metadata": {},
   "source": [
    "# Combining both"
   ]
  },
  {
   "cell_type": "code",
   "execution_count": 29,
   "id": "7f713e32-f077-4dc1-b252-cdcde77df9c4",
   "metadata": {},
   "outputs": [],
   "source": [
    "df=pd.merge(movies, credits, on=\"title\")"
   ]
  },
  {
   "cell_type": "code",
   "execution_count": 30,
   "id": "dce9d470-8741-4de5-b450-63de0c1bb5d0",
   "metadata": {},
   "outputs": [
    {
     "data": {
      "text/html": [
       "<div>\n",
       "<style scoped>\n",
       "    .dataframe tbody tr th:only-of-type {\n",
       "        vertical-align: middle;\n",
       "    }\n",
       "\n",
       "    .dataframe tbody tr th {\n",
       "        vertical-align: top;\n",
       "    }\n",
       "\n",
       "    .dataframe thead th {\n",
       "        text-align: right;\n",
       "    }\n",
       "</style>\n",
       "<table border=\"1\" class=\"dataframe\">\n",
       "  <thead>\n",
       "    <tr style=\"text-align: right;\">\n",
       "      <th></th>\n",
       "      <th>genres</th>\n",
       "      <th>keywords</th>\n",
       "      <th>overview</th>\n",
       "      <th>tagline</th>\n",
       "      <th>title</th>\n",
       "      <th>id</th>\n",
       "      <th>cast</th>\n",
       "      <th>crew</th>\n",
       "    </tr>\n",
       "  </thead>\n",
       "  <tbody>\n",
       "    <tr>\n",
       "      <th>0</th>\n",
       "      <td>[action, adventure, fantasy, sciencefiction]</td>\n",
       "      <td>[cultureclash, future, spacewar, spacecolony, ...</td>\n",
       "      <td>[in, the, 22nd, century, a, paraplegic, marine...</td>\n",
       "      <td>[enter, the, world, of, pandora]</td>\n",
       "      <td>Avatar</td>\n",
       "      <td>19995</td>\n",
       "      <td>[samworthington, zoesaldana, sigourneyweaver, ...</td>\n",
       "      <td>[jonlandau, jamescameron]</td>\n",
       "    </tr>\n",
       "    <tr>\n",
       "      <th>1</th>\n",
       "      <td>[adventure, fantasy, action]</td>\n",
       "      <td>[ocean, drugabuse, exoticisland, eastindiatrad...</td>\n",
       "      <td>[captain, barbossa, long, believed, to, be, de...</td>\n",
       "      <td>[at, the, end, of, the, world, the, adventure,...</td>\n",
       "      <td>Pirates of the Caribbean: At World's End</td>\n",
       "      <td>285</td>\n",
       "      <td>[johnnydepp, orlandobloom, keiraknightley, ste...</td>\n",
       "      <td>[chadoman, ericmcleod, peterkohn, jerrybruckhe...</td>\n",
       "    </tr>\n",
       "    <tr>\n",
       "      <th>2</th>\n",
       "      <td>[action, adventure, crime]</td>\n",
       "      <td>[spy, basedonnovel, secretagent, sequel, mi6, ...</td>\n",
       "      <td>[a, cryptic, message, from, bonds, past, sends...</td>\n",
       "      <td>[a, plan, no, one, escapes]</td>\n",
       "      <td>Spectre</td>\n",
       "      <td>206647</td>\n",
       "      <td>[danielcraig, christophwaltz, léaseydoux, ralp...</td>\n",
       "      <td>[barbarabroccoli, michaelg.wilson, sammendes]</td>\n",
       "    </tr>\n",
       "    <tr>\n",
       "      <th>3</th>\n",
       "      <td>[action, crime, drama, thriller]</td>\n",
       "      <td>[dccomics, crimefighter, terrorist, secretiden...</td>\n",
       "      <td>[following, the, death, of, district, attorney...</td>\n",
       "      <td>[the, legend, ends]</td>\n",
       "      <td>The Dark Knight Rises</td>\n",
       "      <td>49026</td>\n",
       "      <td>[christianbale, michaelcaine, garyoldman, anne...</td>\n",
       "      <td>[charlesroven, emmathomas, christophernolan]</td>\n",
       "    </tr>\n",
       "    <tr>\n",
       "      <th>4</th>\n",
       "      <td>[action, adventure, sciencefiction]</td>\n",
       "      <td>[basedonnovel, mars, medallion, spacetravel, p...</td>\n",
       "      <td>[john, carter, is, a, warweary, former, milita...</td>\n",
       "      <td>[lost, in, our, world, found, in, another]</td>\n",
       "      <td>John Carter</td>\n",
       "      <td>49529</td>\n",
       "      <td>[taylorkitsch, lynncollins, samanthamorton, wi...</td>\n",
       "      <td>[jimmorris, lindseycollins, andrewstanton, col...</td>\n",
       "    </tr>\n",
       "  </tbody>\n",
       "</table>\n",
       "</div>"
      ],
      "text/plain": [
       "                                         genres  \\\n",
       "0  [action, adventure, fantasy, sciencefiction]   \n",
       "1                  [adventure, fantasy, action]   \n",
       "2                    [action, adventure, crime]   \n",
       "3              [action, crime, drama, thriller]   \n",
       "4           [action, adventure, sciencefiction]   \n",
       "\n",
       "                                            keywords  \\\n",
       "0  [cultureclash, future, spacewar, spacecolony, ...   \n",
       "1  [ocean, drugabuse, exoticisland, eastindiatrad...   \n",
       "2  [spy, basedonnovel, secretagent, sequel, mi6, ...   \n",
       "3  [dccomics, crimefighter, terrorist, secretiden...   \n",
       "4  [basedonnovel, mars, medallion, spacetravel, p...   \n",
       "\n",
       "                                            overview  \\\n",
       "0  [in, the, 22nd, century, a, paraplegic, marine...   \n",
       "1  [captain, barbossa, long, believed, to, be, de...   \n",
       "2  [a, cryptic, message, from, bonds, past, sends...   \n",
       "3  [following, the, death, of, district, attorney...   \n",
       "4  [john, carter, is, a, warweary, former, milita...   \n",
       "\n",
       "                                             tagline  \\\n",
       "0                   [enter, the, world, of, pandora]   \n",
       "1  [at, the, end, of, the, world, the, adventure,...   \n",
       "2                        [a, plan, no, one, escapes]   \n",
       "3                                [the, legend, ends]   \n",
       "4         [lost, in, our, world, found, in, another]   \n",
       "\n",
       "                                      title      id  \\\n",
       "0                                    Avatar   19995   \n",
       "1  Pirates of the Caribbean: At World's End     285   \n",
       "2                                   Spectre  206647   \n",
       "3                     The Dark Knight Rises   49026   \n",
       "4                               John Carter   49529   \n",
       "\n",
       "                                                cast  \\\n",
       "0  [samworthington, zoesaldana, sigourneyweaver, ...   \n",
       "1  [johnnydepp, orlandobloom, keiraknightley, ste...   \n",
       "2  [danielcraig, christophwaltz, léaseydoux, ralp...   \n",
       "3  [christianbale, michaelcaine, garyoldman, anne...   \n",
       "4  [taylorkitsch, lynncollins, samanthamorton, wi...   \n",
       "\n",
       "                                                crew  \n",
       "0                          [jonlandau, jamescameron]  \n",
       "1  [chadoman, ericmcleod, peterkohn, jerrybruckhe...  \n",
       "2      [barbarabroccoli, michaelg.wilson, sammendes]  \n",
       "3       [charlesroven, emmathomas, christophernolan]  \n",
       "4  [jimmorris, lindseycollins, andrewstanton, col...  "
      ]
     },
     "execution_count": 30,
     "metadata": {},
     "output_type": "execute_result"
    }
   ],
   "source": [
    "df.head()"
   ]
  },
  {
   "cell_type": "code",
   "execution_count": 31,
   "id": "e4d47ff2-23d7-44b4-b2e8-70ef63d01673",
   "metadata": {},
   "outputs": [],
   "source": [
    "df[\"tags\"]=df[\"genres\"]+df[\"keywords\"]+df[\"overview\"]+df[\"tagline\"]+df[\"cast\"]+df[\"crew\"]\n",
    "df[\"tags\"]=df[\"tags\"].apply(lambda x: \" \".join(x))"
   ]
  },
  {
   "cell_type": "code",
   "execution_count": 32,
   "id": "11c2c142-ef30-418d-9232-e0d8a8fabb5c",
   "metadata": {},
   "outputs": [],
   "source": [
    "def stem(x):\n",
    "    y=[]\n",
    "    for string in x.split():\n",
    "        y.append(PorterStemmer().stem(string))\n",
    "    return \" \".join(y)\n",
    "df[\"tags\"]=df[\"tags\"].apply(stem)"
   ]
  },
  {
   "cell_type": "markdown",
   "id": "1ad5e674-d561-4206-b7be-b47195efb114",
   "metadata": {},
   "source": [
    "# Vectorizing"
   ]
  },
  {
   "cell_type": "code",
   "execution_count": 33,
   "id": "f7ec7a12-70de-4e8b-93e8-c000cdd965c0",
   "metadata": {},
   "outputs": [],
   "source": [
    "vectorizer=TfidfVectorizer(stop_words=\"english\",max_features=10000)\n",
    "vectors=vectorizer.fit_transform(df[\"tags\"]).toarray()"
   ]
  },
  {
   "cell_type": "code",
   "execution_count": 34,
   "id": "ddcad9f9-2c33-41c9-b642-c090024680d4",
   "metadata": {},
   "outputs": [
    {
     "data": {
      "text/plain": [
       "(4809, 10000)"
      ]
     },
     "execution_count": 34,
     "metadata": {},
     "output_type": "execute_result"
    }
   ],
   "source": [
    "vectors.shape"
   ]
  },
  {
   "cell_type": "markdown",
   "id": "17757ea9-4b9c-4beb-9b45-d8573a5e2796",
   "metadata": {},
   "source": [
    "# Making similarity matrix"
   ]
  },
  {
   "cell_type": "code",
   "execution_count": 35,
   "id": "b27379f4-1c6f-4041-84d3-8ba9571201da",
   "metadata": {},
   "outputs": [],
   "source": [
    "similarity_matrix=cosine_similarity(vectors)"
   ]
  },
  {
   "cell_type": "code",
   "execution_count": 36,
   "id": "04f272ec-311b-453d-aebf-c02db05940c2",
   "metadata": {},
   "outputs": [
    {
     "data": {
      "text/plain": [
       "(4809, 4809)"
      ]
     },
     "execution_count": 36,
     "metadata": {},
     "output_type": "execute_result"
    }
   ],
   "source": [
    "similarity_matrix.shape"
   ]
  },
  {
   "cell_type": "code",
   "execution_count": 37,
   "id": "a3ba9939-84db-4b05-9820-78ae87393dbf",
   "metadata": {},
   "outputs": [],
   "source": [
    "def recommend(similarity_matrix):\n",
    "    index=df[df[\"title\"]==\"Batman Begins\"].index\n",
    "    sim_scores = similarity_matrix[index].ravel()\n",
    "    top_5=top5_idx = np.argsort(sim_scores)[-6:][::-1]\n",
    "    top_5=top_5[1:]\n",
    "    values=df.iloc[top_5][\"title\"].values\n",
    "    print(values)"
   ]
  },
  {
   "cell_type": "code",
   "execution_count": 38,
   "id": "6a396fec-e484-4710-bb46-2f2ed64160f2",
   "metadata": {},
   "outputs": [
    {
     "name": "stdout",
     "output_type": "stream",
     "text": [
      "['The Dark Knight' 'The Dark Knight Rises' 'Batman'\n",
      " 'Batman v Superman: Dawn of Justice' 'Batman']\n"
     ]
    }
   ],
   "source": [
    "recommend(similarity_matrix)"
   ]
  },
  {
   "cell_type": "code",
   "execution_count": 43,
   "id": "fa788519-db93-4f36-9cf5-cfd6367fa8f0",
   "metadata": {},
   "outputs": [
    {
     "ename": "TypeError",
     "evalue": "'<' not supported between instances of 'str' and 'int'",
     "output_type": "error",
     "traceback": [
      "\u001b[1;31m---------------------------------------------------------------------------\u001b[0m",
      "\u001b[1;31mTypeError\u001b[0m                                 Traceback (most recent call last)",
      "Cell \u001b[1;32mIn[43], line 1\u001b[0m\n\u001b[1;32m----> 1\u001b[0m \u001b[43mjoblib\u001b[49m\u001b[38;5;241;43m.\u001b[39;49m\u001b[43mdump\u001b[49m\u001b[43m(\u001b[49m\u001b[43mdf\u001b[49m\u001b[43m[\u001b[49m\u001b[38;5;124;43m\"\u001b[39;49m\u001b[38;5;124;43mtitle\u001b[39;49m\u001b[38;5;124;43m\"\u001b[39;49m\u001b[43m]\u001b[49m\u001b[43m,\u001b[49m\u001b[38;5;124;43m\"\u001b[39;49m\u001b[38;5;124;43mmovies.pkl\u001b[39;49m\u001b[38;5;124;43m\"\u001b[39;49m\u001b[43m,\u001b[49m\u001b[43mprotocol\u001b[49m\u001b[38;5;241;43m=\u001b[39;49m\u001b[38;5;124;43m\"\u001b[39;49m\u001b[38;5;124;43mwb\u001b[39;49m\u001b[38;5;124;43m\"\u001b[39;49m\u001b[43m)\u001b[49m\n",
      "File \u001b[1;32m~\\AppData\\Local\\Programs\\Python\\Python313\\Lib\\site-packages\\joblib\\numpy_pickle.py:600\u001b[0m, in \u001b[0;36mdump\u001b[1;34m(value, filename, compress, protocol)\u001b[0m\n\u001b[0;32m    598\u001b[0m \u001b[38;5;28;01melif\u001b[39;00m is_filename:\n\u001b[0;32m    599\u001b[0m     \u001b[38;5;28;01mwith\u001b[39;00m \u001b[38;5;28mopen\u001b[39m(filename, \u001b[38;5;124m\"\u001b[39m\u001b[38;5;124mwb\u001b[39m\u001b[38;5;124m\"\u001b[39m) \u001b[38;5;28;01mas\u001b[39;00m f:\n\u001b[1;32m--> 600\u001b[0m         \u001b[43mNumpyPickler\u001b[49m\u001b[43m(\u001b[49m\u001b[43mf\u001b[49m\u001b[43m,\u001b[49m\u001b[43m \u001b[49m\u001b[43mprotocol\u001b[49m\u001b[38;5;241;43m=\u001b[39;49m\u001b[43mprotocol\u001b[49m\u001b[43m)\u001b[49m\u001b[38;5;241m.\u001b[39mdump(value)\n\u001b[0;32m    601\u001b[0m \u001b[38;5;28;01melse\u001b[39;00m:\n\u001b[0;32m    602\u001b[0m     NumpyPickler(filename, protocol\u001b[38;5;241m=\u001b[39mprotocol)\u001b[38;5;241m.\u001b[39mdump(value)\n",
      "File \u001b[1;32m~\\AppData\\Local\\Programs\\Python\\Python313\\Lib\\site-packages\\joblib\\numpy_pickle.py:328\u001b[0m, in \u001b[0;36mNumpyPickler.__init__\u001b[1;34m(self, fp, protocol)\u001b[0m\n\u001b[0;32m    325\u001b[0m \u001b[38;5;28;01mif\u001b[39;00m protocol \u001b[38;5;129;01mis\u001b[39;00m \u001b[38;5;28;01mNone\u001b[39;00m:\n\u001b[0;32m    326\u001b[0m     protocol \u001b[38;5;241m=\u001b[39m pickle\u001b[38;5;241m.\u001b[39mDEFAULT_PROTOCOL\n\u001b[1;32m--> 328\u001b[0m \u001b[43mPickler\u001b[49m\u001b[38;5;241;43m.\u001b[39;49m\u001b[38;5;21;43m__init__\u001b[39;49m\u001b[43m(\u001b[49m\u001b[38;5;28;43mself\u001b[39;49m\u001b[43m,\u001b[49m\u001b[43m \u001b[49m\u001b[38;5;28;43mself\u001b[39;49m\u001b[38;5;241;43m.\u001b[39;49m\u001b[43mfile_handle\u001b[49m\u001b[43m,\u001b[49m\u001b[43m \u001b[49m\u001b[43mprotocol\u001b[49m\u001b[38;5;241;43m=\u001b[39;49m\u001b[43mprotocol\u001b[49m\u001b[43m)\u001b[49m\n\u001b[0;32m    329\u001b[0m \u001b[38;5;66;03m# delayed import of numpy, to avoid tight coupling\u001b[39;00m\n\u001b[0;32m    330\u001b[0m \u001b[38;5;28;01mtry\u001b[39;00m:\n",
      "File \u001b[1;32m~\\AppData\\Local\\Programs\\Python\\Python313\\Lib\\pickle.py:443\u001b[0m, in \u001b[0;36m_Pickler.__init__\u001b[1;34m(self, file, protocol, fix_imports, buffer_callback)\u001b[0m\n\u001b[0;32m    441\u001b[0m \u001b[38;5;28;01mif\u001b[39;00m protocol \u001b[38;5;129;01mis\u001b[39;00m \u001b[38;5;28;01mNone\u001b[39;00m:\n\u001b[0;32m    442\u001b[0m     protocol \u001b[38;5;241m=\u001b[39m DEFAULT_PROTOCOL\n\u001b[1;32m--> 443\u001b[0m \u001b[38;5;28;01mif\u001b[39;00m \u001b[43mprotocol\u001b[49m\u001b[43m \u001b[49m\u001b[38;5;241;43m<\u001b[39;49m\u001b[43m \u001b[49m\u001b[38;5;241;43m0\u001b[39;49m:\n\u001b[0;32m    444\u001b[0m     protocol \u001b[38;5;241m=\u001b[39m HIGHEST_PROTOCOL\n\u001b[0;32m    445\u001b[0m \u001b[38;5;28;01melif\u001b[39;00m \u001b[38;5;129;01mnot\u001b[39;00m \u001b[38;5;241m0\u001b[39m \u001b[38;5;241m<\u001b[39m\u001b[38;5;241m=\u001b[39m protocol \u001b[38;5;241m<\u001b[39m\u001b[38;5;241m=\u001b[39m HIGHEST_PROTOCOL:\n",
      "\u001b[1;31mTypeError\u001b[0m: '<' not supported between instances of 'str' and 'int'"
     ]
    }
   ],
   "source": [
    "joblib.dump(df[\"title\"],\"movies.pkl\",\"wb\")"
   ]
  },
  {
   "cell_type": "code",
   "execution_count": null,
   "id": "5bb91476-22dc-41d5-835b-c336bf294c45",
   "metadata": {},
   "outputs": [],
   "source": []
  },
  {
   "cell_type": "code",
   "execution_count": null,
   "id": "d0f5702a-2638-4041-b880-18027966bc7a",
   "metadata": {},
   "outputs": [],
   "source": []
  },
  {
   "cell_type": "code",
   "execution_count": null,
   "id": "ae89bf0c-15bb-4a1c-8233-9902c3aa209c",
   "metadata": {},
   "outputs": [],
   "source": []
  },
  {
   "cell_type": "code",
   "execution_count": null,
   "id": "f8d1d5a6-4f15-4f2f-b38e-8746b833374e",
   "metadata": {},
   "outputs": [],
   "source": []
  },
  {
   "cell_type": "code",
   "execution_count": null,
   "id": "ee8f96c2-5952-4ed8-aeb1-3675bac1ea2e",
   "metadata": {},
   "outputs": [],
   "source": []
  },
  {
   "cell_type": "code",
   "execution_count": null,
   "id": "944700ec-810d-4ded-8504-7a7eccecfef2",
   "metadata": {},
   "outputs": [],
   "source": []
  }
 ],
 "metadata": {
  "kernelspec": {
   "display_name": "Python 3 (ipykernel)",
   "language": "python",
   "name": "python3"
  },
  "language_info": {
   "codemirror_mode": {
    "name": "ipython",
    "version": 3
   },
   "file_extension": ".py",
   "mimetype": "text/x-python",
   "name": "python",
   "nbconvert_exporter": "python",
   "pygments_lexer": "ipython3",
   "version": "3.13.2"
  }
 },
 "nbformat": 4,
 "nbformat_minor": 5
}
